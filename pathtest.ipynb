{
 "cells": [
  {
   "cell_type": "code",
   "execution_count": null,
   "metadata": {},
   "outputs": [],
   "source": [
    "import glob\n",
    "import os\n",
    "import sys\n",
    "import numpy as np\n",
    "import cv2\n",
    "import random\n",
    "import time\n"
   ]
  },
  {
   "cell_type": "code",
   "execution_count": null,
   "metadata": {},
   "outputs": [],
   "source": [
    "try:\n",
    "    sys.path.append(glob.glob('../carla/dist/carla-*%d.%d-%s.egg' % (\n",
    "        sys.version_info.major,\n",
    "        sys.version_info.minor,\n",
    "        'win-amd64' if os.name == 'nt' else 'linux-x86_64'))[0])\n",
    "except IndexError:\n",
    "    pass\n",
    "import carla"
   ]
  },
  {
   "cell_type": "code",
   "execution_count": null,
   "metadata": {},
   "outputs": [],
   "source": [
    "actor_list=[]\n",
    "client=carla.Client('localhost',2000)\n",
    "client=carla.Client('localhost',2000)\n",
    "client.set_timeout(2000.0)"
   ]
  },
  {
   "cell_type": "code",
   "execution_count": null,
   "metadata": {},
   "outputs": [],
   "source": [
    "\n",
    "\n",
    "world=client.get_world()\n",
    "bpl=world.get_blueprint_library()\n",
    "bp=bpl.filter('model3')[0]\n",
    "print(bp)\n",
    "spp=world.get_map().get_spawn_points()\n",
    "sp=spp[10]\n",
    "vl=world.spawn_actor(bp,sp)\n",
    "actor_list.append(vl)"
   ]
  },
  {
   "cell_type": "code",
   "execution_count": null,
   "metadata": {},
   "outputs": [],
   "source": [
    "bp2=bpl.find('sensor.camera.rgb')\n",
    "bp2.set_attribute(\"image_size_x\",f'{600}')\n",
    "bp2.set_attribute(\"image_size_y\",f'{600}')\n",
    "bp2.set_attribute('fov','110')\n",
    "#position of the sensor\n",
    "ssp=carla.Transform(carla.Location(x=2.5,z=0.7))\n",
    "sn=world.spawn_actor(bp2,ssp,attach_to=vl)\n",
    "actor_list.append(sn)"
   ]
  },
  {
   "cell_type": "code",
   "execution_count": null,
   "metadata": {},
   "outputs": [],
   "source": [
    "\n",
    "sys.path.append('C:/Users/ASUS/Downloads/CARLA_0.9.8/WindowsNoEditor/PythonAPI/carla')\n",
    "import agents\n",
    "from agents.navigation.global_route_planner import GlobalRoutePlanner\n",
    "import carla\n",
    "from agents.navigation.local_planner import RoadOption\n",
    "# from agents.navigation.global_route_planner import GlobalRoutePlanner\n",
    "from agents.navigation.global_route_planner_dao import GlobalRoutePlannerDAO"
   ]
  },
  {
   "cell_type": "code",
   "execution_count": null,
   "metadata": {},
   "outputs": [],
   "source": [
    "\n",
    "#from agents.navigation.local_planner import RoadOption\n",
    "#from agents.navigation.global_route_planner import GlobalRoutePlanner\n",
    "#from agents.navigation.global_route_planner_dao import GlobalRoutePlannerDAO\n",
    "\n",
    "# client = carla.Client('localhost', 2000)\n",
    "# client.set_timeout(10.0)\n",
    "\n",
    "world = client.get_world()\n",
    "map = world.get_map()\n",
    "\n",
    "dao = GlobalRoutePlannerDAO(map, sampling_resolution=1)\n",
    "grp = GlobalRoutePlanner(dao)\n",
    "grp.setup()\n",
    "\n",
    "start_point = carla.Location(x=-77.887169, y=21.444204, z=1.805250)\n",
    "end_points = [\n",
    "    carla.Location(x=-6.446170, y=-79.055023, z=1.842997),\n",
    "    carla.Location(x=65.516594, y=7.808423, z=1.843102),\n",
    "    carla.Location(x=65.568863, y=4.308813, z=1.843102),\n",
    "    # Add more locations as needed\n",
    "]\n",
    "\n",
    "longest_route = []\n",
    "max_distance = 0\n",
    "\n",
    "for end_point in end_points:\n",
    "    try:\n",
    "        print(f\"Tracing route from {start_point} to {end_point}\")\n",
    "        route = grp.trace_route(start_point, end_point)\n",
    "\n",
    "        if route is None:\n",
    "            print(f\"Route tracing failed for: {start_point} to {end_point}\")\n",
    "            continue\n",
    "\n",
    "        if len(route) > max_distance:\n",
    "            longest_route = route\n",
    "            max_distance = len(route)\n",
    "    except Exception as e:\n",
    "        print(f\"Error tracing route from {start_point} to {end_point}: {e}\")\n",
    "\n",
    "if longest_route:\n",
    "    for waypoint in longest_route:\n",
    "        world.debug.draw_string(waypoint[0].transform.location, 'O', draw_shadow=False, color=carla.Color(r=255, g=0, b=0), life_time=100.0, persistent_lines=True)\n",
    "else:\n",
    "    print(\"No valid route found.\")\n"
   ]
  },
  {
   "cell_type": "code",
   "execution_count": null,
   "metadata": {},
   "outputs": [],
   "source": [
    "# point=sp.location\n",
    "# sampling_resolution=1\n",
    "# smp=world.get_map()\n",
    "# grp=GlobalRoutePlanner(world.get_map())\n",
    "# dis=0\n",
    "\n",
    "# for loc in spp:\n",
    "#     print(loc.location)\n",
    "#     cr=grp.trace_route(point,loc.location)\n",
    "#     if len(cr)>dis:\n",
    "#         route=cr\n",
    "# for waypoint in route:\n",
    "#     world.debug.draw_string(waypoint.transform.location,'O',draw_shadow=False,color=carla.Color(r=255,g=0,b=0),life_time=60.0,persistent_lines=True)\n",
    "\n"
   ]
  },
  {
   "cell_type": "code",
   "execution_count": null,
   "metadata": {},
   "outputs": [],
   "source": [
    "# for waypoint in route:\n",
    "#     vl.set_transform(waypoint[0].transform)\n",
    "#     cv2.imshow('Fake self-driving',sn['image'])\n",
    "#     cv2.waitKey(50)\n",
    "    \n",
    "time.sleep(2)\n",
    "# cv2.destroyAllWindows()\n",
    "sn.stop() # this is the opposite of camera.listen\n",
    "for actor in world.get_actors().filter('vehicle'):\n",
    "    actor.destroy()\n",
    "for sensor in world.get_actors().filter('sensor'):\n",
    "    sensor.destroy()"
   ]
  }
 ],
 "metadata": {
  "kernelspec": {
   "display_name": "Python 3",
   "language": "python",
   "name": "python3"
  },
  "language_info": {
   "codemirror_mode": {
    "name": "ipython",
    "version": 3
   },
   "file_extension": ".py",
   "mimetype": "text/x-python",
   "name": "python",
   "nbconvert_exporter": "python",
   "pygments_lexer": "ipython3",
   "version": "3.7.0"
  }
 },
 "nbformat": 4,
 "nbformat_minor": 2
}
