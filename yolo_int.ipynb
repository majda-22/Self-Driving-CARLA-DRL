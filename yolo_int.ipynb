{
 "cells": [
  {
   "cell_type": "code",
   "execution_count": null,
   "metadata": {},
   "outputs": [],
   "source": [
    "import glob\n",
    "import os\n",
    "import sys\n",
    "import numpy as np\n",
    "import cv2\n",
    "import random\n"
   ]
  },
  {
   "cell_type": "code",
   "execution_count": null,
   "metadata": {},
   "outputs": [],
   "source": [
    "# # import yolo\n",
    "# from IPython import display\n",
    "# display.clear_output()"
   ]
  },
  {
   "cell_type": "code",
   "execution_count": null,
   "metadata": {},
   "outputs": [],
   "source": [
    "# import tensorflow\n",
    "import time"
   ]
  },
  {
   "cell_type": "code",
   "execution_count": null,
   "metadata": {},
   "outputs": [],
   "source": [
    "import ultralytics\n",
    "from ultralytics import YOLO\n",
    "# yolo=YOLO(\"yolov8n.pt\")\n"
   ]
  },
  {
   "cell_type": "code",
   "execution_count": null,
   "metadata": {},
   "outputs": [],
   "source": [
    "from PIL import Image"
   ]
  },
  {
   "cell_type": "code",
   "execution_count": null,
   "metadata": {},
   "outputs": [],
   "source": [
    "try:\n",
    "    sys.path.append(glob.glob('../carla/dist/carla-*%d.%d-%s.egg' % (\n",
    "        sys.version_info.major,\n",
    "        sys.version_info.minor,\n",
    "        'win-amd64' if os.name == 'nt' else 'linux-x86_64'))[0])\n",
    "except IndexError:\n",
    "    pass\n",
    "import carla"
   ]
  },
  {
   "cell_type": "code",
   "execution_count": null,
   "metadata": {},
   "outputs": [],
   "source": [
    "# def process(image):\n",
    "#     i=np.array(image.raw_data)\n",
    "#     i2=i.reshape((600,600,4))\n",
    "#     i3=i2[:,:,:3]\n",
    "#    # cv2.imshow(\"\",i3)\n",
    "#     # cv2.waitKey(1)\n",
    "#     normi=(i3/255.0)\n",
    "#     opi=cv2.cvtColor((normi*255).astype(np.uint8),cv2.COLOR_RGB2BGR)\n",
    "#     return opi"
   ]
  },
  {
   "cell_type": "code",
   "execution_count": null,
   "metadata": {},
   "outputs": [],
   "source": [
    "actor_list=[]"
   ]
  },
  {
   "cell_type": "code",
   "execution_count": null,
   "metadata": {},
   "outputs": [],
   "source": [
    "#import random\n",
    "# client=carla.Client('localhost',2000)\n",
    "# client.set_timeout(2000.0)\n",
    "# world=client.get_world()\n",
    "# bpl=world.get_blueprint_library()\n",
    "# bp=bpl.filter('model3')[0]\n",
    "# print(bp)\n",
    "# spp=random.choice(world.get_map().get_spawn_points())\n",
    "# # sp=spp[0]\n",
    "# vl=world.spawn_actor(bp,spp)\n",
    "# actor_list.append(vl)\n",
    "# vp=vl.get_transform()\n",
    "\n",
    "client=carla.Client('localhost',2000)\n",
    "client.set_timeout(2000.0)\n",
    "world=client.get_world()\n",
    "bpl=world.get_blueprint_library()\n",
    "bp=bpl.filter('model3')[0]\n",
    "print(bp)\n",
    "spp=world.get_map().get_spawn_points()\n",
    "sp=spp[10]\n",
    "vl=world.spawn_actor(bp,sp)\n",
    "actor_list.append(vl)"
   ]
  },
  {
   "cell_type": "code",
   "execution_count": null,
   "metadata": {},
   "outputs": [],
   "source": [
    "#control the vehicle:\n",
    "def control_vehicle(traffic_light_state):\n",
    "    control = carla.VehicleControl()\n",
    "    if traffic_light_state == \"red\":\n",
    "        control.throttle = 0.0\n",
    "        control.brake = 1.0\n",
    "    elif traffic_light_state == \"green\":\n",
    "        control.throttle = 1.0\n",
    "        control.brake = 0.0\n",
    "    else:\n",
    "        # Default behavior if the traffic light state is not known\n",
    "        control.throttle = 0.5\n",
    "        control.brake = 0.0\n",
    "    vl.apply_control(control)"
   ]
  },
  {
   "cell_type": "code",
   "execution_count": null,
   "metadata": {},
   "outputs": [],
   "source": [
    "yolo = YOLO('yolov8n.pt')\n",
    "\n",
    "# Secondary model (yolotraficlight) for traffic light detection\n",
    "yolotraficlight = YOLO(\"C:/Users/ASUS/Downloads/CARLA_0.9.8/WindowsNoEditor/PythonAPI/examples/best1.pt\")\n",
    "\n",
    "import supervision as sv\n",
    "\n",
    "rf = Roboflow(api_key=\"PqaW7bzyyhdeZntUMVOJ\")\n",
    "project = rf.workspace().project(\"object-recognition-dddrb\")\n",
    "model = project.version(2).model\n",
    "\n",
    "def detect_traffic_light_state(image):\n",
    "    # Perform traffic light detection using yolotraficlight\n",
    "    result = yolotraficlight(image)[0]\n",
    "    print(\"bla bla bla bla bla bla\")\n",
    "    # Determine traffic light state (green, red, yellow)\n",
    "    for box in result.boxes:\n",
    "        state_label = result.names[int(box.cls[0])] \n",
    "        print(\"Detected traffic light state:\", state_label)\n",
    "        return state_label\n",
    "    return \"Unknown\"\n",
    "\n",
    "# Callback function for processing each frame\n",
    "def cm_callback(image):\n",
    "    # Convert image to numpy array\n",
    "    img = np.array(image.raw_data).reshape((600, 600, 4))\n",
    "    img_color = cv2.cvtColor(img, cv2.COLOR_BGRA2BGR)  # Convert to BGR format\n",
    "    \n",
    "    # Perform object detection using YOLOv8 on color image\n",
    "    result = yolo(img_color)[0]\n",
    "\n",
    "    # Iterate over detected objects\n",
    "    for box in result.boxes:\n",
    "        x1, y1, x2, y2 = box.xyxy[0]\n",
    "        x1, y1, x2, y2 = int(x1), int(y1), int(x2), int(y2)\n",
    "        \n",
    "        # Check if the detected object is a traffic light\n",
    "        label = result.names[int(box.cls[0])]\n",
    "        if label == \"traffic light\":\n",
    "            # Crop the region of interest containing the traffic light from the color image\n",
    "            traffic_light_roi = img_color\n",
    "\n",
    "            \n",
    "            # Detect traffic light state using yolotraficlight\n",
    "            traffic_light_state = detect_traffic_light_state(traffic_light_roi)\n",
    "            traffic_light_state = detect_traffic_light_state(traffic_light_roi)\n",
    "            control_vehicle(traffic_light_state)\n",
    "            \n",
    "            # Draw bounding box and label on the original image\n",
    "            cv2.rectangle(img_color, (x1, y1), (x2, y2), (0, 255, 0), 2)\n",
    "            cv2.putText(img_color, label + \": \" + traffic_light_state, (x1, y1 - 10), cv2.FONT_HERSHEY_SIMPLEX, 0.5, (36, 255, 12), 2)\n",
    "        else:\n",
    "            # Draw bounding box and label on the original image for non-traffic light objects\n",
    "            cv2.rectangle(img_color, (x1, y1), (x2, y2), (0, 255, 0), 2)\n",
    "            cv2.putText(img_color, label, (x1, y1 - 10), cv2.FONT_HERSHEY_SIMPLEX, 0.5, (36, 255, 12), 2)\n",
    "    \n",
    "    # Save or display the annotated image\n",
    "    frame_id = str(time.time())\n",
    "    file_path = os.path.join('data_carla', f'dete_obj_{frame_id}.png')\n",
    "    os.makedirs(os.path.dirname(file_path), exist_ok=True)\n",
    "    cv2.imwrite(file_path, img_color)\n",
    "    #cv2.imshow(\"Annotated Image\", img_color)\n",
    "    #cv2.waitKey(1)  # Use 1 ms waitKey to update the display window"
   ]
  },
  {
   "cell_type": "code",
   "execution_count": null,
   "metadata": {},
   "outputs": [],
   "source": [
    "\n"
   ]
  },
  {
   "cell_type": "code",
   "execution_count": null,
   "metadata": {},
   "outputs": [],
   "source": [
    "\n",
    "\n"
   ]
  },
  {
   "cell_type": "code",
   "execution_count": null,
   "metadata": {},
   "outputs": [],
   "source": [
    "#vl.set_autopilot(True)"
   ]
  },
  {
   "cell_type": "code",
   "execution_count": null,
   "metadata": {},
   "outputs": [],
   "source": [
    "#vehicle controle whitout autopilote\n",
    "#vl.apply_control(carla.VehicleControl(throttle=1.0,steer=0.0))"
   ]
  },
  {
   "cell_type": "code",
   "execution_count": null,
   "metadata": {},
   "outputs": [],
   "source": [
    "bp2=bpl.find('sensor.camera.rgb')\n",
    "bp2.set_attribute(\"image_size_x\",f'{600}')\n",
    "bp2.set_attribute(\"image_size_y\",f'{600}')\n",
    "bp2.set_attribute('fov','110')\n",
    "#position of the sensor\n",
    "ssp=carla.Transform(carla.Location(x=2.5,z=0.7))\n",
    "sn=world.spawn_actor(bp2,ssp,attach_to=vl)\n",
    "actor_list.append(sn)"
   ]
  },
  {
   "cell_type": "code",
   "execution_count": null,
   "metadata": {},
   "outputs": [],
   "source": [
    "#vehicle controle without autopilote\n",
    "vl.apply_control(carla.VehicleControl(throttle=1.0,steer=0.0))\n",
    "sn.listen(cm_callback)"
   ]
  },
  {
   "cell_type": "code",
   "execution_count": null,
   "metadata": {},
   "outputs": [],
   "source": [
    "#vl.destroy()\n",
    "#sn.destroy()\n",
    "for actor in actor_list:\n",
    "     actor.destroy()"
   ]
  },
  {
   "cell_type": "code",
   "execution_count": null,
   "metadata": {},
   "outputs": [],
   "source": []
  }
 ],
 "metadata": {
  "kernelspec": {
   "display_name": "Python 3",
   "language": "python",
   "name": "python3"
  },
  "language_info": {
   "codemirror_mode": {
    "name": "ipython",
    "version": 3
   },
   "file_extension": ".py",
   "mimetype": "text/x-python",
   "name": "python",
   "nbconvert_exporter": "python",
   "pygments_lexer": "ipython3",
   "version": "3.7.0"
  }
 },
 "nbformat": 4,
 "nbformat_minor": 2
}
