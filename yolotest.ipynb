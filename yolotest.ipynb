{
 "cells": [
  {
   "cell_type": "code",
   "execution_count": null,
   "metadata": {},
   "outputs": [],
   "source": [
    "import glob\n",
    "import os\n",
    "import sys\n",
    "import numpy as np\n",
    "import cv2"
   ]
  },
  {
   "cell_type": "code",
   "execution_count": null,
   "metadata": {},
   "outputs": [],
   "source": [
    "# import tensorflow\n",
    "import time"
   ]
  },
  {
   "cell_type": "code",
   "execution_count": null,
   "metadata": {},
   "outputs": [],
   "source": [
    "import ultralytics\n",
    "from ultralytics import YOLO\n",
    "yolo=YOLO(\"yolov8n.pt\")\n"
   ]
  },
  {
   "cell_type": "code",
   "execution_count": null,
   "metadata": {},
   "outputs": [],
   "source": [
    "from PIL import Image"
   ]
  },
  {
   "cell_type": "code",
   "execution_count": null,
   "metadata": {},
   "outputs": [],
   "source": [
    "try:\n",
    "    sys.path.append(glob.glob('../carla/dist/carla-*%d.%d-%s.egg' % (\n",
    "        sys.version_info.major,\n",
    "        sys.version_info.minor,\n",
    "        'win-amd64' if os.name == 'nt' else 'linux-x86_64'))[0])\n",
    "except IndexError:\n",
    "    pass\n"
   ]
  },
  {
   "cell_type": "code",
   "execution_count": null,
   "metadata": {},
   "outputs": [],
   "source": [
    "import carla"
   ]
  },
  {
   "cell_type": "code",
   "execution_count": null,
   "metadata": {},
   "outputs": [],
   "source": [
    "def process(image):\n",
    "    i=np.array(image.raw_data)\n",
    "    i2=i.reshape((600,600,4))\n",
    "    i3=i2[:,:,:3]\n",
    "   # cv2.imshow(\"\",i3)\n",
    "    # cv2.waitKey(1)\n",
    "    normi=(i3/255.0)\n",
    "    opi=cv2.cvtColor((normi*255).astype(np.uint8),cv2.COLOR_RGB2BGR)\n",
    "    return opi"
   ]
  },
  {
   "cell_type": "code",
   "execution_count": null,
   "metadata": {},
   "outputs": [],
   "source": [
    "def cm_callback(image):\n",
    "    img=np.array(image.raw_data).reshape((600,600,4))\n",
    "    img=cv2.cvtColor(img,cv2.COLOR_BGRA2BGR)\n",
    "    result=yolo(img)[0]\n",
    "    for box in result.boxes:\n",
    "        x1,y1,x2,y2=box.xyxy[0]\n",
    "        x1,y1,x2,y2=int(x1),int(y1),int(x2),int(y2)\n",
    "        cv2.rectangle(img,(x1,y1),(x2,y2),(0,255,0),2)\n",
    "        label=result.names[int(box.cls[0])]\n",
    "        cv2.putText(img,label,(x1,y1-10),cv2.FONT_HERSHEY_SIMPLEX,0.5,(36,255,12),2)\n",
    "    # img.save_to_disk('data_carla/%06d.png' % img.frame,carla.ColorConverter.Raw)\n",
    "    pi=Image.fromarray(img)\n",
    "    # pi.save_to_disk('data_carla/%06d.png' % pi.frame,carla.ColorConverter.Raw)\n",
    "    frame_id=str(time.time())\n",
    "    file_p=os.path.join('data_carla',f'dete_obj_{frame_id}.png')\n",
    "    pi.save(file_p)\n",
    "    cv2.waitKey(0)"
   ]
  },
  {
   "cell_type": "code",
   "execution_count": null,
   "metadata": {},
   "outputs": [],
   "source": [
    "actor_list=[]\n"
   ]
  },
  {
   "cell_type": "code",
   "execution_count": null,
   "metadata": {},
   "outputs": [],
   "source": [
    "\n",
    "client=carla.Client('localhost',2000)\n",
    "client.set_timeout(2000.0)\n",
    "world=client.get_world()\n",
    "bpl=world.get_blueprint_library()\n",
    "bp=bpl.filter('model3')[0]\n",
    "print(bp)\n",
    "spp=world.get_map().get_spawn_points()\n",
    "sp=spp[10]\n",
    "vl=world.spawn_actor(bp,sp)\n",
    "actor_list.append(vl)\n"
   ]
  },
  {
   "cell_type": "code",
   "execution_count": null,
   "metadata": {},
   "outputs": [],
   "source": [
    "#vl.set_autopilot(True)"
   ]
  },
  {
   "cell_type": "code",
   "execution_count": null,
   "metadata": {},
   "outputs": [],
   "source": [
    "#vehicle controle whitout autopilote\n",
    "vl.apply_control(carla.VehicleControl(throttle=1.0,steer=0.0))"
   ]
  },
  {
   "cell_type": "code",
   "execution_count": null,
   "metadata": {},
   "outputs": [],
   "source": [
    "bp2=bpl.find('sensor.camera.rgb')\n",
    "bp2.set_attribute(\"image_size_x\",f'{600}')\n",
    "bp2.set_attribute(\"image_size_y\",f'{600}')\n",
    "bp2.set_attribute('fov','110')\n",
    "#position of the sensor\n",
    "ssp=carla.Transform(carla.Location(x=2.5,z=0.7))\n",
    "sn=world.spawn_actor(bp2,ssp,attach_to=vl)\n",
    "actor_list.append(sn)"
   ]
  },
  {
   "cell_type": "code",
   "execution_count": null,
   "metadata": {},
   "outputs": [],
   "source": [
    "#vehicle controle without autopilote\n",
    "vl.apply_control(carla.VehicleControl(throttle=1.0,steer=0.0))\n",
    "sn.listen(cm_callback)"
   ]
  },
  {
   "cell_type": "code",
   "execution_count": null,
   "metadata": {},
   "outputs": [],
   "source": [
    "#vl.destroy()\n",
    "#sn.destroy()\n",
    "for actor in actor_list:\n",
    "    actor.destroy()"
   ]
  },
  {
   "cell_type": "code",
   "execution_count": null,
   "metadata": {},
   "outputs": [],
   "source": []
  }
 ],
 "metadata": {
  "kernelspec": {
   "display_name": "Python 3",
   "language": "python",
   "name": "python3"
  },
  "language_info": {
   "codemirror_mode": {
    "name": "ipython",
    "version": 3
   },
   "file_extension": ".py",
   "mimetype": "text/x-python",
   "name": "python",
   "nbconvert_exporter": "python",
   "pygments_lexer": "ipython3",
   "version": "3.7.0"
  }
 },
 "nbformat": 4,
 "nbformat_minor": 2
}
